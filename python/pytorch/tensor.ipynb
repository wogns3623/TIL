{
 "cells": [
  {
   "cell_type": "code",
   "execution_count": 92,
   "metadata": {},
   "outputs": [],
   "source": [
    "import torch\n",
    "import numpy as np"
   ]
  },
  {
   "cell_type": "code",
   "execution_count": 93,
   "metadata": {
    "tags": []
   },
   "outputs": [
    {
     "output_type": "stream",
     "name": "stdout",
     "text": "tensor([[1.0286e-38, 1.0653e-38, 1.0194e-38],\n        [8.4490e-39, 1.0469e-38, 9.3674e-39],\n        [9.9184e-39, 8.7245e-39, 9.2755e-39],\n        [8.9082e-39, 9.9184e-39, 8.4490e-39],\n        [9.6429e-39, 1.0653e-38, 1.0469e-38]])\n"
    }
   ],
   "source": [
    "x = torch.empty(5, 3) # not initialized\n",
    "# raw memory value\n",
    "\n",
    "# torch.{fill type}\n",
    "# empty, ones, zeros, full, rand, randint, randn\n",
    "print(x)"
   ]
  },
  {
   "cell_type": "code",
   "execution_count": 94,
   "metadata": {
    "tags": []
   },
   "outputs": [
    {
     "output_type": "stream",
     "name": "stdout",
     "text": "tensor([[1, 1, 1],\n        [1, 1, 1],\n        [1, 1, 1],\n        [1, 1, 1],\n        [1, 1, 1]])\n"
    }
   ],
   "source": [
    "y = torch.ones_like(x, dtype=torch.long)\n",
    "# torch.{fill type}_like\n",
    "# follow dtype, size, device, etc\n",
    "print(y)"
   ]
  },
  {
   "cell_type": "code",
   "execution_count": 95,
   "metadata": {
    "tags": []
   },
   "outputs": [
    {
     "output_type": "stream",
     "name": "stdout",
     "text": "tensor([[3, 3, 3, 3],\n        [3, 3, 3, 3],\n        [3, 3, 3, 3]])\n"
    }
   ],
   "source": [
    "a = y.new_full((3, 4), 3)\n",
    "# x.new_{fill type}\n",
    "# follow dtype, device, etc\n",
    "print(a)"
   ]
  },
  {
   "cell_type": "code",
   "execution_count": 96,
   "metadata": {
    "tags": []
   },
   "outputs": [
    {
     "output_type": "stream",
     "name": "stdout",
     "text": "torch.Size([5, 3]) torch.Size([5, 3]) torch.Size([3, 4])\n"
    }
   ],
   "source": [
    "print(x.size(), y.size(), a.size())"
   ]
  },
  {
   "cell_type": "code",
   "execution_count": 97,
   "metadata": {
    "tags": []
   },
   "outputs": [
    {
     "output_type": "stream",
     "name": "stdout",
     "text": "tensor([[4, 4, 4, 4],\n        [4, 4, 4, 4],\n        [4, 4, 4, 4]])\ntensor([[4, 4, 4, 4],\n        [4, 4, 4, 4],\n        [4, 4, 4, 4]])\ntensor([[4, 4, 4, 4],\n        [4, 4, 4, 4],\n        [4, 4, 4, 4]])\ntensor([[4, 4, 4, 4],\n        [4, 4, 4, 4],\n        [4, 4, 4, 4]])\ntensor([[3, 3, 3, 3],\n        [3, 3, 3, 3],\n        [3, 3, 3, 3]])\ntensor([[1, 1, 1, 1],\n        [1, 1, 1, 1],\n        [1, 1, 1, 1]])\n"
    }
   ],
   "source": [
    "b = torch.ones_like(a)\n",
    "print(a+b)\n",
    "print(torch.add(a, b))\n",
    "print(b.add(a))\n",
    "\n",
    "c = torch.empty_like(a)\n",
    "torch.add(a, b, out=c)\n",
    "print(c)\n",
    "# don't change a, b\n",
    "\n",
    "print(a, b, sep=\"\\n\")"
   ]
  },
  {
   "cell_type": "code",
   "execution_count": 98,
   "metadata": {
    "tags": []
   },
   "outputs": [
    {
     "output_type": "stream",
     "name": "stdout",
     "text": "tensor([[3, 3, 3, 3],\n        [3, 3, 3, 3],\n        [3, 3, 3, 3]])\ntensor([[4, 4, 4, 4],\n        [4, 4, 4, 4],\n        [4, 4, 4, 4]])\n"
    }
   ],
   "source": [
    "# x.{operation}_ : in-place method\n",
    "b1 = torch.ones_like(b)\n",
    "b1.add_(a)\n",
    "#change b1\n",
    "\n",
    "print(a, b1, sep=\"\\n\")"
   ]
  },
  {
   "cell_type": "code",
   "execution_count": 99,
   "metadata": {
    "tags": []
   },
   "outputs": [
    {
     "output_type": "stream",
     "name": "stdout",
     "text": "tensor(4)\n4\n"
    }
   ],
   "source": [
    "print(b1[2,3])\n",
    "\n",
    "print(b1[2,3].item())"
   ]
  },
  {
   "cell_type": "code",
   "execution_count": 100,
   "metadata": {
    "tags": []
   },
   "outputs": [
    {
     "output_type": "stream",
     "name": "stdout",
     "text": "tensor([[[4, 4],\n         [4, 4],\n         [4, 4]],\n\n        [[4, 4],\n         [4, 4],\n         [4, 4]]])\n"
    }
   ],
   "source": [
    "b2 = b1.view(2, 3, -1)\n",
    "print(b2)"
   ]
  },
  {
   "cell_type": "code",
   "execution_count": 101,
   "metadata": {
    "tags": []
   },
   "outputs": [
    {
     "output_type": "stream",
     "name": "stdout",
     "text": "[[4 4 4 4]\n [4 4 4 4]\n [4 4 4 4]]\ntensor([[7, 7, 7, 7],\n        [7, 7, 7, 7],\n        [7, 7, 7, 7]])\n[[7 7 7 7]\n [7 7 7 7]\n [7 7 7 7]]\n"
    }
   ],
   "source": [
    "b3 = b1.numpy()\n",
    "print(b3)\n",
    "\n",
    "b1.add_(a)\n",
    "\n",
    "print(b1, b3, sep=\"\\n\")"
   ]
  },
  {
   "cell_type": "code",
   "execution_count": null,
   "metadata": {},
   "outputs": [],
   "source": []
  }
 ],
 "metadata": {
  "language_info": {
   "codemirror_mode": {
    "name": "ipython",
    "version": 3
   },
   "file_extension": ".py",
   "mimetype": "text/x-python",
   "name": "python",
   "nbconvert_exporter": "python",
   "pygments_lexer": "ipython3",
   "version": 3
  },
  "orig_nbformat": 2,
  "kernelspec": {
   "name": "python_defaultSpec_1595253235124",
   "display_name": "Python 3.6.8 64-bit"
  }
 },
 "nbformat": 4,
 "nbformat_minor": 2
}