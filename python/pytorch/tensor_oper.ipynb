{
 "metadata": {
  "language_info": {
   "codemirror_mode": {
    "name": "ipython",
    "version": 3
   },
   "file_extension": ".py",
   "mimetype": "text/x-python",
   "name": "python",
   "nbconvert_exporter": "python",
   "pygments_lexer": "ipython3",
   "version": 3
  },
  "orig_nbformat": 2,
  "kernelspec": {
   "name": "python_defaultSpec_1595417867008",
   "display_name": "Python 3.6.8 64-bit"
  }
 },
 "nbformat": 4,
 "nbformat_minor": 2,
 "cells": [
  {
   "cell_type": "code",
   "execution_count": 1,
   "metadata": {},
   "outputs": [],
   "source": [
    "import torch"
   ]
  },
  {
   "cell_type": "markdown",
   "metadata": {},
   "source": [
    "* `torch.add(tensor, other, out, ...)`\n",
    "* tensor와 other을 add 연산함\n",
    "* 기본적인 연산의 경우에는 +, -등의 연산자를 사용한 연산 가능\n",
    "* `{tensor}.add(other, ...)` 의 형식으로도 쓸 수 있음\n",
    "* `{tensor}.add_(other, ...)` 처럼 함수 뒤에 _를 붙이면 tensor의 값을 변화시킴(+=)\n",
    "* out 파라미터를 이용해 결과값을 지정한 변수에 저장할 수 있음\n",
    "* out 파라미터는 `torch.add()` 형태의 함수에서만 사용 가능"
   ]
  },
  {
   "cell_type": "code",
   "execution_count": 13,
   "metadata": {
    "tags": []
   },
   "outputs": [
    {
     "output_type": "stream",
     "name": "stdout",
     "text": "tensor([[0.3799, 0.7715, 0.0474],\n        [0.8615, 0.9405, 0.8682]]) \n\ntensor([[1.3799, 1.7715, 1.0474],\n        [1.8615, 1.9405, 1.8682]])\ntensor([[1.3799, 1.7715, 1.0474],\n        [1.8615, 1.9405, 1.8682]])\ntensor([[1.3799, 1.7715, 1.0474],\n        [1.8615, 1.9405, 1.8682]])\ntensor([[1.3799, 1.7715, 1.0474],\n        [1.8615, 1.9405, 1.8682]])\ntensor([[0.3799, 0.7715, 0.0474],\n        [0.8615, 0.9405, 0.8682]]) \n\ntensor([[1.3799, 1.7715, 1.0474],\n        [1.8615, 1.9405, 1.8682]])\ntensor([[1.3799, 1.7715, 1.0474],\n        [1.8615, 1.9405, 1.8682]])\n"
    }
   ],
   "source": [
    "a = torch.rand(2, 3)\n",
    "b = torch.ones_like(a)\n",
    "c = torch.empty_like(a)\n",
    "\n",
    "print(a, \"\\n\")\n",
    "\n",
    "# don't change a, b\n",
    "print(a+b)\n",
    "print(torch.add(a, b, out=c))\n",
    "print(c)\n",
    "print(a.add(b))\n",
    "print(a, \"\\n\")\n",
    "\n",
    "# change a\n",
    "print(a.add_(b))\n",
    "print(a)"
   ]
  },
  {
   "cell_type": "markdown",
   "metadata": {},
   "source": [
    "* `torch.clamp(tensor, min=-inf, max=inf, ...)`\n",
    "    * min 이하의 값은 min으로, max 이상의 값은 max로 바꿈\n",
    "    * ex) relu 함수를 구현하는데 사용"
   ]
  },
  {
   "cell_type": "code",
   "execution_count": 4,
   "metadata": {
    "tags": []
   },
   "outputs": [
    {
     "output_type": "stream",
     "name": "stdout",
     "text": "tensor([[ 0.6781,  0.5581,  0.8438],\n        [ 0.6572,  0.9216, -0.6582]])\ntensor([[0.6781, 0.5581, 0.8438],\n        [0.6572, 0.9216, 0.0000]])\ntensor([[0.6000, 0.5581, 0.6000],\n        [0.6000, 0.6000, 0.3000]])\n"
    }
   ],
   "source": [
    "x = torch.rand(2, 3)*2-1\n",
    "\n",
    "print(x)\n",
    "print(x.clamp(min=0.3, max=0.6))\n",
    "print(x.clamp(min=0)) # relu function"
   ]
  },
  {
   "cell_type": "markdown",
   "metadata": {},
   "source": [
    "* `torch.matmul(tensor, other, ...)`\n",
    "    * tensor와 other의 행렬곱을 반환함\n",
    "    * broadcasting를 지원하지 않는 `torch.mm()` 도 있음\n",
    "        * 굳이 왜 나누어 놨는가\n",
    "    * ex) 신경망의 순전파를 구현할 때 가중치와 입력값의 곱을 계산하는데에 사용"
   ]
  },
  {
   "cell_type": "code",
   "execution_count": 31,
   "metadata": {
    "tags": []
   },
   "outputs": [
    {
     "output_type": "stream",
     "name": "stdout",
     "text": "tensor([[8, 7, 7],\n        [1, 6, 8]])\ntensor([5, 1, 4])\ntensor([75, 43])\n"
    },
    {
     "output_type": "error",
     "ename": "IndexError",
     "evalue": "Dimension out of range (expected to be in range of [-1, 0], but got 1)",
     "traceback": [
      "\u001b[1;31m---------------------------------------------------------------------------\u001b[0m",
      "\u001b[1;31mIndexError\u001b[0m                                Traceback (most recent call last)",
      "\u001b[1;32m<ipython-input-31-02769b94b997>\u001b[0m in \u001b[0;36m<module>\u001b[1;34m\u001b[0m\n\u001b[0;32m      5\u001b[0m \u001b[1;33m\u001b[0m\u001b[0m\n\u001b[0;32m      6\u001b[0m \u001b[0mprint\u001b[0m\u001b[1;33m(\u001b[0m\u001b[0mx\u001b[0m\u001b[1;33m.\u001b[0m\u001b[0mmatmul\u001b[0m\u001b[1;33m(\u001b[0m\u001b[0my\u001b[0m\u001b[1;33m)\u001b[0m\u001b[1;33m)\u001b[0m\u001b[1;33m\u001b[0m\u001b[1;33m\u001b[0m\u001b[0m\n\u001b[1;32m----> 7\u001b[1;33m \u001b[0mprint\u001b[0m\u001b[1;33m(\u001b[0m\u001b[0mx\u001b[0m\u001b[1;33m.\u001b[0m\u001b[0mmm\u001b[0m\u001b[1;33m(\u001b[0m\u001b[0my\u001b[0m\u001b[1;33m)\u001b[0m\u001b[1;33m)\u001b[0m\u001b[1;33m\u001b[0m\u001b[1;33m\u001b[0m\u001b[0m\n\u001b[0m",
      "\u001b[1;31mIndexError\u001b[0m: Dimension out of range (expected to be in range of [-1, 0], but got 1)"
     ]
    }
   ],
   "source": [
    "x = torch.randint(10, (2, 3))\n",
    "y = torch.randint(10, (3,))\n",
    "print(x)\n",
    "print(y)\n",
    "\n",
    "print(x.matmul(y))\n",
    "print(x.mm(y))"
   ]
  },
  {
   "cell_type": "code",
   "execution_count": null,
   "metadata": {},
   "outputs": [],
   "source": []
  }
 ]
}