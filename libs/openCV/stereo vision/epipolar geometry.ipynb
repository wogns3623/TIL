{
 "metadata": {
  "language_info": {
   "codemirror_mode": {
    "name": "ipython",
    "version": 3
   },
   "file_extension": ".py",
   "mimetype": "text/x-python",
   "name": "python",
   "nbconvert_exporter": "python",
   "pygments_lexer": "ipython3",
   "version": 3
  },
  "orig_nbformat": 2
 },
 "nbformat": 4,
 "nbformat_minor": 2,
 "cells": [
  {
   "source": [
    "# Epipolar Geometry 등극선 기하\n",
    "* 같은 공간을 다른 각도로 찍은 두 사진을 통해 위치 관계 정보를 파악\n",
    "\n",
    "### 용어 정리\n",
    "\n",
    "* 공간상의 점 P를 두 각도에서 바라보았을 때\n",
    "  * PL, PR: 각각의 이미지 평면에서 점의 위치\n",
    "  * OL, OR: 각 점의 사영 원점\n",
    "  * EL, ER: 두 사영 원점을 이은 선이 이미지 평면과 만나는 지점\n",
    "  * epipole: EL, ER\n",
    "  * epiline: ER과 PR을 이은 직선\n",
    "  * epipolar plain: OL, OR, P로 결정되는 평면\n",
    "\n",
    "* Essential Matrix\n",
    "  * 두 카메라의 위치 관계 정보를 가진 행렬\n",
    "\n",
    "* Fundamental Matrix\n",
    "  * Essential Matrix와 동일한 정보를 픽셀 좌표로 나타낼 수 있도록 정보가 추가된 행렬"
   ],
   "cell_type": "markdown",
   "metadata": {}
  },
  {
   "source": [
    "이미지 매칭을 통해 두 이미지의 특성을 분석해 적절한 매칭 포인트들을 검출해내고, 이를 이용해 Fundamental Matrix를 구할 수 있음"
   ],
   "cell_type": "markdown",
   "metadata": {}
  }
 ]
}